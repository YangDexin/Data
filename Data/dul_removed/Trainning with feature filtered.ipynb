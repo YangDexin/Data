{
 "cells": [
  {
   "cell_type": "code",
   "execution_count": 158,
   "metadata": {
    "collapsed": true
   },
   "outputs": [],
   "source": [
    "import csv\n",
    "import sys\n",
    "import numpy as np\n",
    "import pandas as pd \n",
    "import re\n",
    "from datetime import datetime\n",
    "import math\n",
    "import matplotlib\n",
    "import seaborn as sns\n",
    "from collections import Counter\n",
    "%matplotlib inline"
   ]
  },
  {
   "cell_type": "code",
   "execution_count": 159,
   "metadata": {
    "collapsed": true
   },
   "outputs": [],
   "source": [
    "with open('SamsungS.csv', 'r') as f:\n",
    "    SamsungS = pd.read_csv(f, sep=',', low_memory=False)\n",
    "with open('SamsungM.csv', 'r') as f:\n",
    "    SamsungM = pd.read_csv(f, sep=',', low_memory=False)\n",
    "with open('SamsungLB.csv', 'r') as f:\n",
    "    SamsungBL = pd.read_csv(f, sep=',', low_memory=False)\n",
    "with open('SamsungLW.csv', 'r') as f:\n",
    "    SamsungLW = pd.read_csv(f, sep=',', low_memory=False)\n",
    "with open('Nexus5.csv', 'r') as f:\n",
    "    Nexus5 = pd.read_csv(f, sep=',', low_memory=False)\n",
    "with open('Nexus7.csv', 'r') as f:\n",
    "    Nexus7 = pd.read_csv(f, sep=',', low_memory=False)"
   ]
  },
  {
   "cell_type": "code",
   "execution_count": 160,
   "metadata": {
    "collapsed": true
   },
   "outputs": [],
   "source": [
    "#cols= ['duLN1','du.2','duLN3','dut4','dui5','due6','duLN7','du58','duLN9','duSH10','dur11','duo12','dua13','dun14','dul15','duDO16','UUID']\n",
    "#cols= ['ddownLN&.1','ddown.&LN2','ddownLN&t3','ddownt&i4','ddowni&e5','ddowne&LN6','ddownLN&57','ddown5&LN8','ddownLN&SH9','ddownSH&r10','ddownr&o11','ddowno&a12','ddowna&n13','ddownn&l14','ddownl&DO15','UUID']\n",
    "#cols= ['flyLN&.1','fly.&LN2','flyLN&t3','flyt&i4','flyi&e5','flye&LN6','flyLN&57','fly5&LN8','flyLN&SH9','flySH&r10','flyr&o11','flyo&a12','flya&n13','flyn&l14','flyl&DO15','UUID']\n",
    "#cols= ['upupLN&.1','upup.&LN2','upupLN&t3','upupt&i4','upupi&e5','upupe&LN6','upupLN&57','upup5&LN8','upupLN&SH9','upupSH&r10','upupr&o11','upupo&a12','upupa&n13','upupn&l14','upupl&DO15','UUID']\n",
    "#cols= ['duLN1','du.2','duLN3','dut4','dui5','due6','duLN7','du58','duLN9','duSH10','dur11','duo12','dua13','dun14','dul15','duDO16','flyLN&.1','fly.&LN2','flyLN&t3','flyt&i4','flyi&e5','flye&LN6','flyLN&57','fly5&LN8','flyLN&SH9','flySH&r10','flyr&o11','flyo&a12','flya&n13','flyn&l14','flyl&DO15','UUID']\n",
    "#cols= ['flyLN&.1','fly.&LN2','flyLN&t3','flyt&i4','flyi&e5','flye&LN6','flyLN&57','fly5&LN8','flyLN&SH9','flySH&r10','flyr&o11','flyo&a12','flya&n13','flyn&l14','flyl&DO15','ddownLN&.1','ddown.&LN2','ddownLN&t3','ddownt&i4','ddowni&e5','ddowne&LN6','ddownLN&57','ddown5&LN8','ddownLN&SH9','ddownSH&r10','ddownr&o11','ddowno&a12','ddowna&n13','ddownn&l14','ddownl&DO15','UUID']\n",
    "#cols= ['flyLN&.1','fly.&LN2','flyLN&t3','flyt&i4','flyi&e5','flye&LN6','flyLN&57','fly5&LN8','flyLN&SH9','flySH&r10','flyr&o11','flyo&a12','flya&n13','flyn&l14','flyl&DO15','upupLN&.1','upup.&LN2','upupLN&t3','upupt&i4','upupi&e5','upupe&LN6','upupLN&57','upup5&LN8','upupLN&SH9','upupSH&r10','upupr&o11','upupo&a12','upupa&n13','upupn&l14','upupl&DO15','UUID']\n",
    "#cols= ['upupLN&.1','upup.&LN2','upupLN&t3','upupt&i4','upupi&e5','upupe&LN6','upupLN&57','upup5&LN8','upupLN&SH9','upupSH&r10','upupr&o11','upupo&a12','upupa&n13','upupn&l14','upupl&DO15','ddownLN&.1','ddown.&LN2','ddownLN&t3','ddownt&i4','ddowni&e5','ddowne&LN6','ddownLN&57','ddown5&LN8','ddownLN&SH9','ddownSH&r10','ddownr&o11','ddowno&a12','ddowna&n13','ddownn&l14','ddownl&DO15','UUID']\n",
    "#cols= ['upupLN&.1','upup.&LN2','upupLN&t3','upupt&i4','upupi&e5','upupe&LN6','upupLN&57','upup5&LN8','upupLN&SH9','upupSH&r10','upupr&o11','upupo&a12','upupa&n13','upupn&l14','upupl&DO15','ddownLN&.1','ddown.&LN2','ddownLN&t3','ddownt&i4','ddowni&e5','ddowne&LN6','ddownLN&57','ddown5&LN8','ddownLN&SH9','ddownSH&r10','ddownr&o11','ddowno&a12','ddowna&n13','ddownn&l14','ddownl&DO15','flyLN&.1','fly.&LN2','flyLN&t3','flyt&i4','flyi&e5','flye&LN6','flyLN&57','fly5&LN8','flyLN&SH9','flySH&r10','flyr&o11','flyo&a12','flya&n13','flyn&l14','flyl&DO15','UUID']\n",
    "#cols= ['duLN1','du.2','duLN3','dut4','dui5','due6','duLN7','du58','duLN9','duSH10','dur11','duo12','dua13','dun14','dul15','duDO16','ddownLN&.1','ddown.&LN2','ddownLN&t3','ddownt&i4','ddowni&e5','ddowne&LN6','ddownLN&57','ddown5&LN8','ddownLN&SH9','ddownSH&r10','ddownr&o11','ddowno&a12','ddowna&n13','ddownn&l14','ddownl&DO15','UUID']\n",
    "cols= ['duLN1','du.2','duLN3','dut4','dui5','due6','duLN7','du58','duLN9','duSH10','dur11','duo12','dua13','dun14','dul15','duDO16','upupLN&.1','upup.&LN2','upupLN&t3','upupt&i4','upupi&e5','upupe&LN6','upupLN&57','upup5&LN8','upupLN&SH9','upupSH&r10','upupr&o11','upupo&a12','upupa&n13','upupn&l14','upupl&DO15','UUID']\n",
    "#cols= ['duLN1','du.2','duLN3','dut4','dui5','due6','duLN7','du58','duLN9','duSH10','dur11','duo12','dua13','dun14','dul15','duDO16','upupLN&.1','upup.&LN2','upupLN&t3','upupt&i4','upupi&e5','upupe&LN6','upupLN&57','upup5&LN8','upupLN&SH9','upupSH&r10','upupr&o11','upupo&a12','upupa&n13','upupn&l14','upupl&DO15','ddownLN&.1','ddown.&LN2','ddownLN&t3','ddownt&i4','ddowni&e5','ddowne&LN6','ddownLN&57','ddown5&LN8','ddownLN&SH9','ddownSH&r10','ddownr&o11','ddowno&a12','ddowna&n13','ddownn&l14','ddownl&DO15','UUID']\n",
    "SamsungS=SamsungS[cols]\n",
    "SamsungM=SamsungM[cols]\n",
    "SamsungLB=SamsungL[cols]\n",
    "SamsungLW=SamsungL[cols]\n",
    "Nexus5=Nexus5[cols]\n",
    "Nexus7=Nexus7[cols]"
   ]
  },
  {
   "cell_type": "code",
   "execution_count": 161,
   "metadata": {
    "collapsed": true
   },
   "outputs": [],
   "source": [
    "X_s5, y_s5 = SamsungS.iloc[:, : -1  ],SamsungS.iloc[:,-1]\n",
    "from sklearn.model_selection import train_test_split\n",
    "X_train_s5, X_test_s5, y_train_s5,y_test_s5 = train_test_split(X_s5,y_s5,test_size=0.2,random_state=1)"
   ]
  },
  {
   "cell_type": "code",
   "execution_count": 162,
   "metadata": {
    "collapsed": true
   },
   "outputs": [],
   "source": [
    "from sklearn.model_selection import cross_val_score"
   ]
  },
  {
   "cell_type": "code",
   "execution_count": 163,
   "metadata": {},
   "outputs": [
    {
     "data": {
      "text/plain": [
       "RandomForestClassifier(bootstrap=True, class_weight=None, criterion='gini',\n",
       "            max_depth=None, max_features='auto', max_leaf_nodes=None,\n",
       "            min_impurity_split=1e-07, min_samples_leaf=1,\n",
       "            min_samples_split=2, min_weight_fraction_leaf=0.0,\n",
       "            n_estimators=10, n_jobs=1, oob_score=False, random_state=1,\n",
       "            verbose=0, warm_start=False)"
      ]
     },
     "execution_count": 163,
     "metadata": {},
     "output_type": "execute_result"
    }
   ],
   "source": [
    "from sklearn.ensemble import RandomForestClassifier\n",
    "rfn_s5 = RandomForestClassifier(random_state=1)\n",
    "rfn_s5.fit(X_s5,y_s5)"
   ]
  },
  {
   "cell_type": "markdown",
   "metadata": {},
   "source": [
    "# Train with Samsung 5, test with Samsung 5"
   ]
  },
  {
   "cell_type": "code",
   "execution_count": 164,
   "metadata": {},
   "outputs": [
    {
     "name": "stdout",
     "output_type": "stream",
     "text": [
      "random forest scores: [ 0.90625  0.96875  1.       0.96875  0.9375   1.       0.96875  0.96875\n",
      "  0.90625  0.84375]  mean: 0.94687500000000002  std: 0.046456\n"
     ]
    }
   ],
   "source": [
    "rfscores = cross_val_score(rfn_s5, X_s5, y_s5, cv = 10)\n",
    "print(\"random forest scores: %s  mean: %r  std: %f\" % (str(rfscores), np.mean(rfscores), np.std(rfscores)))"
   ]
  },
  {
   "cell_type": "markdown",
   "metadata": {},
   "source": [
    "# Train with Samsung 5, test with Samsung 7"
   ]
  },
  {
   "cell_type": "code",
   "execution_count": 165,
   "metadata": {
    "collapsed": true
   },
   "outputs": [],
   "source": [
    "X_s7, y_s7 = SamsungM.iloc[:, : -1  ],SamsungM.iloc[:,-1]\n",
    "#from sklearn.model_selection import train_test_split\n",
    "X_train_s7, X_test_s7, y_train_s7,y_test_s7 = train_test_split(X_s7,y_s7,test_size=0.2,random_state=1)"
   ]
  },
  {
   "cell_type": "code",
   "execution_count": 166,
   "metadata": {},
   "outputs": [
    {
     "name": "stdout",
     "output_type": "stream",
     "text": [
      "random forest scores: [ 0.96875  0.90625  1.       1.       1.       0.96875  0.9375   1.       1.\n",
      "  1.     ]  mean: 0.97812500000000002  std: 0.031406\n"
     ]
    }
   ],
   "source": [
    "rfscores3 = cross_val_score(rfn_s5, X_s7, y_s7, cv = 10)\n",
    "print(\"random forest scores: %s  mean: %r  std: %f\" % (str(rfscores3), np.mean(rfscores3), np.std(rfscores3)))"
   ]
  },
  {
   "cell_type": "markdown",
   "metadata": {},
   "source": [
    "# Train with Samsung 5, test with Samsung 10"
   ]
  },
  {
   "cell_type": "code",
   "execution_count": 167,
   "metadata": {
    "collapsed": true
   },
   "outputs": [],
   "source": [
    "X_s10, y_s10 = SamsungL.iloc[:, : -1],SamsungL.iloc[:,-1]\n",
    "X_train_s10, X_test_s10, y_train_s10,y_test_s10 = train_test_split(X_s10,y_s10,test_size=0.2,random_state=1)"
   ]
  },
  {
   "cell_type": "code",
   "execution_count": 168,
   "metadata": {},
   "outputs": [
    {
     "name": "stdout",
     "output_type": "stream",
     "text": [
      "random forest scores: [ 0.90625  0.90625  0.875    0.90625  0.96875  1.       1.       0.875\n",
      "  0.90625  0.96875]  mean: 0.93125000000000002  std: 0.045928\n"
     ]
    }
   ],
   "source": [
    "rfscores2 = cross_val_score(rfn_s5, X_s10, y_s10, cv = 10)\n",
    "print(\"random forest scores: %s  mean: %r  std: %f\" % (str(rfscores2), np.mean(rfscores2), np.std(rfscores2)))"
   ]
  }
 ],
 "metadata": {
  "kernelspec": {
   "display_name": "Python 2",
   "language": "python",
   "name": "python2"
  },
  "language_info": {
   "codemirror_mode": {
    "name": "ipython",
    "version": 2
   },
   "file_extension": ".py",
   "mimetype": "text/x-python",
   "name": "python",
   "nbconvert_exporter": "python",
   "pygments_lexer": "ipython2",
   "version": "2.7.13"
  }
 },
 "nbformat": 4,
 "nbformat_minor": 2
}
