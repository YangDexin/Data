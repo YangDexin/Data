{
 "cells": [
  {
   "cell_type": "code",
   "execution_count": 11,
   "metadata": {
    "collapsed": true
   },
   "outputs": [],
   "source": [
    "import csv\n",
    "import sys\n",
    "import numpy as np\n",
    "import pandas as pd \n",
    "import re\n",
    "from datetime import datetime\n",
    "import math\n",
    "import matplotlib\n",
    "import seaborn as sns\n",
    "from collections import Counter\n",
    "%matplotlib inline"
   ]
  },
  {
   "cell_type": "code",
   "execution_count": 12,
   "metadata": {
    "collapsed": true
   },
   "outputs": [],
   "source": [
    "\n",
    "with open('20_Nexus5.csv', 'r') as f:\n",
    "    df = pd.read_csv(f, sep=',', low_memory=False, names=['ID','UUID','Language','Hardware_Model','SDK_Version','Manufacture','Screen_Size','Time_Zone','Date_Time','Country_Code','Num_of_CPU_Cores','Location','Location_lat','Location_long','Button','Touch_Pressure','Touch_Size','X_Coordinate','Y_Coordinate','X_Precision','Y_Precision','Action_Type','Action_Timestamp','HR_Timestamp'], skiprows=1)"
   ]
  },
  {
   "cell_type": "code",
   "execution_count": 13,
   "metadata": {
    "collapsed": true
   },
   "outputs": [],
   "source": [
    "def cleanDF(df):\n",
    "    df = df.drop_duplicates(subset=[\"Action_Timestamp\"], keep='last')\n",
    "    df =  df.reset_index(drop=True)\n",
    "    \n",
    "    return df"
   ]
  },
  {
   "cell_type": "code",
   "execution_count": 14,
   "metadata": {
    "collapsed": true
   },
   "outputs": [],
   "source": [
    "df = cleanDF(df)"
   ]
  },
  {
   "cell_type": "code",
   "execution_count": 15,
   "metadata": {
    "collapsed": true
   },
   "outputs": [],
   "source": [
    "df.to_csv('newprofiles.csv', sep=',', encoding = 'utf-8', index=False)"
   ]
  }
 ],
 "metadata": {
  "kernelspec": {
   "display_name": "Python 2",
   "language": "python",
   "name": "python2"
  },
  "language_info": {
   "codemirror_mode": {
    "name": "ipython",
    "version": 2
   },
   "file_extension": ".py",
   "mimetype": "text/x-python",
   "name": "python",
   "nbconvert_exporter": "python",
   "pygments_lexer": "ipython2",
   "version": "2.7.13"
  }
 },
 "nbformat": 4,
 "nbformat_minor": 2
}
